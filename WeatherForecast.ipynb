{
  "nbformat": 4,
  "nbformat_minor": 0,
  "metadata": {
    "colab": {
      "name": "WeatherForecast.ipynb",
      "provenance": [],
      "collapsed_sections": []
    },
    "kernelspec": {
      "display_name": "Python 3",
      "name": "python3"
    },
    "widgets": {
      "application/vnd.jupyter.widget-state+json": {
        "c8ea69b38aa44c32a5d83c8fe8411422": {
          "model_module": "@jupyter-widgets/controls",
          "model_name": "HBoxModel",
          "state": {
            "_dom_classes": [],
            "_model_module": "@jupyter-widgets/controls",
            "_model_module_version": "1.5.0",
            "_model_name": "HBoxModel",
            "_view_count": null,
            "_view_module": "@jupyter-widgets/controls",
            "_view_module_version": "1.5.0",
            "_view_name": "HBoxView",
            "box_style": "",
            "children": [
              "IPY_MODEL_680deb2ce16641b7a4ac86ebc525a193",
              "IPY_MODEL_7dd3c986f1d9407289cf81960bbbc644"
            ],
            "layout": "IPY_MODEL_9fd6305e4a5845ca9b81259e9795299d"
          }
        },
        "9fd6305e4a5845ca9b81259e9795299d": {
          "model_module": "@jupyter-widgets/base",
          "model_name": "LayoutModel",
          "state": {
            "_model_module": "@jupyter-widgets/base",
            "_model_module_version": "1.2.0",
            "_model_name": "LayoutModel",
            "_view_count": null,
            "_view_module": "@jupyter-widgets/base",
            "_view_module_version": "1.2.0",
            "_view_name": "LayoutView",
            "align_content": null,
            "align_items": null,
            "align_self": null,
            "border": null,
            "bottom": null,
            "display": null,
            "flex": null,
            "flex_flow": null,
            "grid_area": null,
            "grid_auto_columns": null,
            "grid_auto_flow": null,
            "grid_auto_rows": null,
            "grid_column": null,
            "grid_gap": null,
            "grid_row": null,
            "grid_template_areas": null,
            "grid_template_columns": null,
            "grid_template_rows": null,
            "height": null,
            "justify_content": null,
            "justify_items": null,
            "left": null,
            "margin": null,
            "max_height": null,
            "max_width": null,
            "min_height": null,
            "min_width": null,
            "object_fit": null,
            "object_position": null,
            "order": null,
            "overflow": null,
            "overflow_x": null,
            "overflow_y": null,
            "padding": null,
            "right": null,
            "top": null,
            "visibility": null,
            "width": null
          }
        },
        "680deb2ce16641b7a4ac86ebc525a193": {
          "model_module": "@jupyter-widgets/controls",
          "model_name": "FloatProgressModel",
          "state": {
            "_dom_classes": [],
            "_model_module": "@jupyter-widgets/controls",
            "_model_module_version": "1.5.0",
            "_model_name": "FloatProgressModel",
            "_view_count": null,
            "_view_module": "@jupyter-widgets/controls",
            "_view_module_version": "1.5.0",
            "_view_name": "ProgressView",
            "bar_style": "success",
            "description": "",
            "description_tooltip": null,
            "layout": "IPY_MODEL_f775f8751473463589dcdf8eefbc12cd",
            "max": 1,
            "min": 0,
            "orientation": "horizontal",
            "style": "IPY_MODEL_b810352ca9c84b0495f0959579f1dbfa",
            "value": 1
          }
        },
        "7dd3c986f1d9407289cf81960bbbc644": {
          "model_module": "@jupyter-widgets/controls",
          "model_name": "HTMLModel",
          "state": {
            "_dom_classes": [],
            "_model_module": "@jupyter-widgets/controls",
            "_model_module_version": "1.5.0",
            "_model_name": "HTMLModel",
            "_view_count": null,
            "_view_module": "@jupyter-widgets/controls",
            "_view_module_version": "1.5.0",
            "_view_name": "HTMLView",
            "description": "",
            "description_tooltip": null,
            "layout": "IPY_MODEL_9f48f451ceb74cd48d1b5ca8c10e9b29",
            "placeholder": "​",
            "style": "IPY_MODEL_b06179d3867549bcb6ab17ceb227ac21",
            "value": " 13574144/? [00:02&lt;00:00, 6711927.54it/s]"
          }
        },
        "b810352ca9c84b0495f0959579f1dbfa": {
          "model_module": "@jupyter-widgets/controls",
          "model_name": "ProgressStyleModel",
          "state": {
            "_model_module": "@jupyter-widgets/controls",
            "_model_module_version": "1.5.0",
            "_model_name": "ProgressStyleModel",
            "_view_count": null,
            "_view_module": "@jupyter-widgets/base",
            "_view_module_version": "1.2.0",
            "_view_name": "StyleView",
            "bar_color": null,
            "description_width": "initial"
          }
        },
        "f775f8751473463589dcdf8eefbc12cd": {
          "model_module": "@jupyter-widgets/base",
          "model_name": "LayoutModel",
          "state": {
            "_model_module": "@jupyter-widgets/base",
            "_model_module_version": "1.2.0",
            "_model_name": "LayoutModel",
            "_view_count": null,
            "_view_module": "@jupyter-widgets/base",
            "_view_module_version": "1.2.0",
            "_view_name": "LayoutView",
            "align_content": null,
            "align_items": null,
            "align_self": null,
            "border": null,
            "bottom": null,
            "display": null,
            "flex": null,
            "flex_flow": null,
            "grid_area": null,
            "grid_auto_columns": null,
            "grid_auto_flow": null,
            "grid_auto_rows": null,
            "grid_column": null,
            "grid_gap": null,
            "grid_row": null,
            "grid_template_areas": null,
            "grid_template_columns": null,
            "grid_template_rows": null,
            "height": null,
            "justify_content": null,
            "justify_items": null,
            "left": null,
            "margin": null,
            "max_height": null,
            "max_width": null,
            "min_height": null,
            "min_width": null,
            "object_fit": null,
            "object_position": null,
            "order": null,
            "overflow": null,
            "overflow_x": null,
            "overflow_y": null,
            "padding": null,
            "right": null,
            "top": null,
            "visibility": null,
            "width": null
          }
        },
        "b06179d3867549bcb6ab17ceb227ac21": {
          "model_module": "@jupyter-widgets/controls",
          "model_name": "DescriptionStyleModel",
          "state": {
            "_model_module": "@jupyter-widgets/controls",
            "_model_module_version": "1.5.0",
            "_model_name": "DescriptionStyleModel",
            "_view_count": null,
            "_view_module": "@jupyter-widgets/base",
            "_view_module_version": "1.2.0",
            "_view_name": "StyleView",
            "description_width": ""
          }
        },
        "9f48f451ceb74cd48d1b5ca8c10e9b29": {
          "model_module": "@jupyter-widgets/base",
          "model_name": "LayoutModel",
          "state": {
            "_model_module": "@jupyter-widgets/base",
            "_model_module_version": "1.2.0",
            "_model_name": "LayoutModel",
            "_view_count": null,
            "_view_module": "@jupyter-widgets/base",
            "_view_module_version": "1.2.0",
            "_view_name": "LayoutView",
            "align_content": null,
            "align_items": null,
            "align_self": null,
            "border": null,
            "bottom": null,
            "display": null,
            "flex": null,
            "flex_flow": null,
            "grid_area": null,
            "grid_auto_columns": null,
            "grid_auto_flow": null,
            "grid_auto_rows": null,
            "grid_column": null,
            "grid_gap": null,
            "grid_row": null,
            "grid_template_areas": null,
            "grid_template_columns": null,
            "grid_template_rows": null,
            "height": null,
            "justify_content": null,
            "justify_items": null,
            "left": null,
            "margin": null,
            "max_height": null,
            "max_width": null,
            "min_height": null,
            "min_width": null,
            "object_fit": null,
            "object_position": null,
            "order": null,
            "overflow": null,
            "overflow_x": null,
            "overflow_y": null,
            "padding": null,
            "right": null,
            "top": null,
            "visibility": null,
            "width": null
          }
        }
      }
    }
  },
  "cells": [
    {
      "cell_type": "markdown",
      "metadata": {
        "id": "YsFA06zOcmWy"
      },
      "source": [
        "Weather Forecast"
      ]
    },
    {
      "cell_type": "code",
      "metadata": {
        "id": "JZ8mT6jq4gLx"
      },
      "source": [
        "import pandas as pd\r\n",
        "import matplotlib.pyplot as plt\r\n",
        "from zipfile import ZipFile\r\n",
        "import os\r\n",
        "import numpy as np\r\n",
        "from torchvision.datasets.utils import download_url\r\n",
        "from sklearn.preprocessing import MinMaxScaler\r\n",
        "import torch\r\n",
        "from torch.utils.data import TensorDataset, DataLoader\r\n",
        "import torch.nn as nn\r\n"
      ],
      "execution_count": null,
      "outputs": []
    },
    {
      "cell_type": "markdown",
      "metadata": {
        "id": "jTb8XR5d4_uO"
      },
      "source": [
        "Download Weather data"
      ]
    },
    {
      "cell_type": "code",
      "metadata": {
        "colab": {
          "base_uri": "https://localhost:8080/",
          "height": 372,
          "referenced_widgets": [
            "c8ea69b38aa44c32a5d83c8fe8411422",
            "9fd6305e4a5845ca9b81259e9795299d",
            "680deb2ce16641b7a4ac86ebc525a193",
            "7dd3c986f1d9407289cf81960bbbc644",
            "b810352ca9c84b0495f0959579f1dbfa",
            "f775f8751473463589dcdf8eefbc12cd",
            "b06179d3867549bcb6ab17ceb227ac21",
            "9f48f451ceb74cd48d1b5ca8c10e9b29"
          ]
        },
        "id": "-wvHWjhS5ACk",
        "outputId": "31f2ca66-3dd1-4701-9cfa-085bf5b21c5b"
      },
      "source": [
        "dataset_url = \"https://storage.googleapis.com/tensorflow/tf-keras-datasets/jena_climate_2009_2016.csv.zip\"\r\n",
        "download_url(dataset_url, './data')\r\n",
        "zip_file = ZipFile('./data/jena_climate_2009_2016.csv.zip')\r\n",
        "zip_file.extractall()\r\n",
        "df = pd.read_csv('./data/jena_climate_2009_2016.csv.zip')\r\n",
        "df.head()"
      ],
      "execution_count": null,
      "outputs": [
        {
          "output_type": "stream",
          "text": [
            "Downloading https://storage.googleapis.com/tensorflow/tf-keras-datasets/jena_climate_2009_2016.csv.zip to ./data/jena_climate_2009_2016.csv.zip\n"
          ],
          "name": "stdout"
        },
        {
          "output_type": "display_data",
          "data": {
            "application/vnd.jupyter.widget-view+json": {
              "model_id": "c8ea69b38aa44c32a5d83c8fe8411422",
              "version_major": 2,
              "version_minor": 0
            },
            "text/plain": [
              "HBox(children=(FloatProgress(value=1.0, bar_style='info', max=1.0), HTML(value='')))"
            ]
          },
          "metadata": {
            "tags": []
          }
        },
        {
          "output_type": "stream",
          "text": [
            "\n"
          ],
          "name": "stdout"
        },
        {
          "output_type": "execute_result",
          "data": {
            "text/html": [
              "<div>\n",
              "<style scoped>\n",
              "    .dataframe tbody tr th:only-of-type {\n",
              "        vertical-align: middle;\n",
              "    }\n",
              "\n",
              "    .dataframe tbody tr th {\n",
              "        vertical-align: top;\n",
              "    }\n",
              "\n",
              "    .dataframe thead th {\n",
              "        text-align: right;\n",
              "    }\n",
              "</style>\n",
              "<table border=\"1\" class=\"dataframe\">\n",
              "  <thead>\n",
              "    <tr style=\"text-align: right;\">\n",
              "      <th></th>\n",
              "      <th>Date Time</th>\n",
              "      <th>p (mbar)</th>\n",
              "      <th>T (degC)</th>\n",
              "      <th>Tpot (K)</th>\n",
              "      <th>Tdew (degC)</th>\n",
              "      <th>rh (%)</th>\n",
              "      <th>VPmax (mbar)</th>\n",
              "      <th>VPact (mbar)</th>\n",
              "      <th>VPdef (mbar)</th>\n",
              "      <th>sh (g/kg)</th>\n",
              "      <th>H2OC (mmol/mol)</th>\n",
              "      <th>rho (g/m**3)</th>\n",
              "      <th>wv (m/s)</th>\n",
              "      <th>max. wv (m/s)</th>\n",
              "      <th>wd (deg)</th>\n",
              "    </tr>\n",
              "  </thead>\n",
              "  <tbody>\n",
              "    <tr>\n",
              "      <th>0</th>\n",
              "      <td>01.01.2009 00:10:00</td>\n",
              "      <td>996.52</td>\n",
              "      <td>-8.02</td>\n",
              "      <td>265.40</td>\n",
              "      <td>-8.90</td>\n",
              "      <td>93.3</td>\n",
              "      <td>3.33</td>\n",
              "      <td>3.11</td>\n",
              "      <td>0.22</td>\n",
              "      <td>1.94</td>\n",
              "      <td>3.12</td>\n",
              "      <td>1307.75</td>\n",
              "      <td>1.03</td>\n",
              "      <td>1.75</td>\n",
              "      <td>152.3</td>\n",
              "    </tr>\n",
              "    <tr>\n",
              "      <th>1</th>\n",
              "      <td>01.01.2009 00:20:00</td>\n",
              "      <td>996.57</td>\n",
              "      <td>-8.41</td>\n",
              "      <td>265.01</td>\n",
              "      <td>-9.28</td>\n",
              "      <td>93.4</td>\n",
              "      <td>3.23</td>\n",
              "      <td>3.02</td>\n",
              "      <td>0.21</td>\n",
              "      <td>1.89</td>\n",
              "      <td>3.03</td>\n",
              "      <td>1309.80</td>\n",
              "      <td>0.72</td>\n",
              "      <td>1.50</td>\n",
              "      <td>136.1</td>\n",
              "    </tr>\n",
              "    <tr>\n",
              "      <th>2</th>\n",
              "      <td>01.01.2009 00:30:00</td>\n",
              "      <td>996.53</td>\n",
              "      <td>-8.51</td>\n",
              "      <td>264.91</td>\n",
              "      <td>-9.31</td>\n",
              "      <td>93.9</td>\n",
              "      <td>3.21</td>\n",
              "      <td>3.01</td>\n",
              "      <td>0.20</td>\n",
              "      <td>1.88</td>\n",
              "      <td>3.02</td>\n",
              "      <td>1310.24</td>\n",
              "      <td>0.19</td>\n",
              "      <td>0.63</td>\n",
              "      <td>171.6</td>\n",
              "    </tr>\n",
              "    <tr>\n",
              "      <th>3</th>\n",
              "      <td>01.01.2009 00:40:00</td>\n",
              "      <td>996.51</td>\n",
              "      <td>-8.31</td>\n",
              "      <td>265.12</td>\n",
              "      <td>-9.07</td>\n",
              "      <td>94.2</td>\n",
              "      <td>3.26</td>\n",
              "      <td>3.07</td>\n",
              "      <td>0.19</td>\n",
              "      <td>1.92</td>\n",
              "      <td>3.08</td>\n",
              "      <td>1309.19</td>\n",
              "      <td>0.34</td>\n",
              "      <td>0.50</td>\n",
              "      <td>198.0</td>\n",
              "    </tr>\n",
              "    <tr>\n",
              "      <th>4</th>\n",
              "      <td>01.01.2009 00:50:00</td>\n",
              "      <td>996.51</td>\n",
              "      <td>-8.27</td>\n",
              "      <td>265.15</td>\n",
              "      <td>-9.04</td>\n",
              "      <td>94.1</td>\n",
              "      <td>3.27</td>\n",
              "      <td>3.08</td>\n",
              "      <td>0.19</td>\n",
              "      <td>1.92</td>\n",
              "      <td>3.09</td>\n",
              "      <td>1309.00</td>\n",
              "      <td>0.32</td>\n",
              "      <td>0.63</td>\n",
              "      <td>214.3</td>\n",
              "    </tr>\n",
              "  </tbody>\n",
              "</table>\n",
              "</div>"
            ],
            "text/plain": [
              "             Date Time  p (mbar)  T (degC)  ...  wv (m/s)  max. wv (m/s)  wd (deg)\n",
              "0  01.01.2009 00:10:00    996.52     -8.02  ...      1.03           1.75     152.3\n",
              "1  01.01.2009 00:20:00    996.57     -8.41  ...      0.72           1.50     136.1\n",
              "2  01.01.2009 00:30:00    996.53     -8.51  ...      0.19           0.63     171.6\n",
              "3  01.01.2009 00:40:00    996.51     -8.31  ...      0.34           0.50     198.0\n",
              "4  01.01.2009 00:50:00    996.51     -8.27  ...      0.32           0.63     214.3\n",
              "\n",
              "[5 rows x 15 columns]"
            ]
          },
          "metadata": {
            "tags": []
          },
          "execution_count": 3
        }
      ]
    },
    {
      "cell_type": "markdown",
      "metadata": {
        "id": "g9OV6Fsy5qN_"
      },
      "source": [
        "Preparing dataset\r\n"
      ]
    },
    {
      "cell_type": "code",
      "metadata": {
        "id": "7mju5tVxBaNQ"
      },
      "source": [
        "titles = [\r\n",
        "    \"Pressure\",\r\n",
        "    \"Temperature\",\r\n",
        "    \"Temperature in Kelvin\",\r\n",
        "    \"Temperature (dew point)\",\r\n",
        "    \"Relative Humidity\",\r\n",
        "    \"Saturation vapor pressure\",\r\n",
        "    \"Vapor pressure\",\r\n",
        "    \"Vapor pressure deficit\",\r\n",
        "    \"Specific humidity\",\r\n",
        "    \"Water vapor concentration\",\r\n",
        "    \"Airtight\",\r\n",
        "    \"Wind speed\",\r\n",
        "    \"Maximum wind speed\",\r\n",
        "    \"Wind direction in degrees\",\r\n",
        "]\r\n",
        "\r\n",
        "feature_keys = [\r\n",
        "    \"p (mbar)\",\r\n",
        "    \"T (degC)\",\r\n",
        "    \"Tpot (K)\",\r\n",
        "    \"Tdew (degC)\",\r\n",
        "    \"rh (%)\",\r\n",
        "    \"VPmax (mbar)\",\r\n",
        "    \"VPact (mbar)\",\r\n",
        "    \"VPdef (mbar)\",\r\n",
        "    \"sh (g/kg)\",\r\n",
        "    \"H2OC (mmol/mol)\",\r\n",
        "    \"rho (g/m**3)\",\r\n",
        "    \"wv (m/s)\",\r\n",
        "    \"max. wv (m/s)\",\r\n",
        "    \"wd (deg)\",\r\n",
        "]\r\n",
        "\r\n",
        "date_time_key = \"Date Time\""
      ],
      "execution_count": null,
      "outputs": []
    },
    {
      "cell_type": "code",
      "metadata": {
        "colab": {
          "base_uri": "https://localhost:8080/",
          "height": 252
        },
        "id": "aIYwVFFDArtC",
        "outputId": "564099a0-cf4e-41d1-c5a6-f8045889ab6e"
      },
      "source": [
        "print(\r\n",
        "    \"The selected parameters are:\",\r\n",
        "    \", \".join([titles[i] for i in [0, 1, 5, 7, 8, 10, 11]]),\r\n",
        ")\r\n",
        "selected_features = [feature_keys[i] for i in [0, 1, 5, 7, 8, 10, 11]]\r\n",
        "features = df[selected_features]\r\n",
        "features.index = df[date_time_key]\r\n",
        "features.head()"
      ],
      "execution_count": null,
      "outputs": [
        {
          "output_type": "stream",
          "text": [
            "The selected parameters are: Pressure, Temperature, Saturation vapor pressure, Vapor pressure deficit, Specific humidity, Airtight, Wind speed\n"
          ],
          "name": "stdout"
        },
        {
          "output_type": "execute_result",
          "data": {
            "text/html": [
              "<div>\n",
              "<style scoped>\n",
              "    .dataframe tbody tr th:only-of-type {\n",
              "        vertical-align: middle;\n",
              "    }\n",
              "\n",
              "    .dataframe tbody tr th {\n",
              "        vertical-align: top;\n",
              "    }\n",
              "\n",
              "    .dataframe thead th {\n",
              "        text-align: right;\n",
              "    }\n",
              "</style>\n",
              "<table border=\"1\" class=\"dataframe\">\n",
              "  <thead>\n",
              "    <tr style=\"text-align: right;\">\n",
              "      <th></th>\n",
              "      <th>p (mbar)</th>\n",
              "      <th>T (degC)</th>\n",
              "      <th>VPmax (mbar)</th>\n",
              "      <th>VPdef (mbar)</th>\n",
              "      <th>sh (g/kg)</th>\n",
              "      <th>rho (g/m**3)</th>\n",
              "      <th>wv (m/s)</th>\n",
              "    </tr>\n",
              "    <tr>\n",
              "      <th>Date Time</th>\n",
              "      <th></th>\n",
              "      <th></th>\n",
              "      <th></th>\n",
              "      <th></th>\n",
              "      <th></th>\n",
              "      <th></th>\n",
              "      <th></th>\n",
              "    </tr>\n",
              "  </thead>\n",
              "  <tbody>\n",
              "    <tr>\n",
              "      <th>01.01.2009 00:10:00</th>\n",
              "      <td>996.52</td>\n",
              "      <td>-8.02</td>\n",
              "      <td>3.33</td>\n",
              "      <td>0.22</td>\n",
              "      <td>1.94</td>\n",
              "      <td>1307.75</td>\n",
              "      <td>1.03</td>\n",
              "    </tr>\n",
              "    <tr>\n",
              "      <th>01.01.2009 00:20:00</th>\n",
              "      <td>996.57</td>\n",
              "      <td>-8.41</td>\n",
              "      <td>3.23</td>\n",
              "      <td>0.21</td>\n",
              "      <td>1.89</td>\n",
              "      <td>1309.80</td>\n",
              "      <td>0.72</td>\n",
              "    </tr>\n",
              "    <tr>\n",
              "      <th>01.01.2009 00:30:00</th>\n",
              "      <td>996.53</td>\n",
              "      <td>-8.51</td>\n",
              "      <td>3.21</td>\n",
              "      <td>0.20</td>\n",
              "      <td>1.88</td>\n",
              "      <td>1310.24</td>\n",
              "      <td>0.19</td>\n",
              "    </tr>\n",
              "    <tr>\n",
              "      <th>01.01.2009 00:40:00</th>\n",
              "      <td>996.51</td>\n",
              "      <td>-8.31</td>\n",
              "      <td>3.26</td>\n",
              "      <td>0.19</td>\n",
              "      <td>1.92</td>\n",
              "      <td>1309.19</td>\n",
              "      <td>0.34</td>\n",
              "    </tr>\n",
              "    <tr>\n",
              "      <th>01.01.2009 00:50:00</th>\n",
              "      <td>996.51</td>\n",
              "      <td>-8.27</td>\n",
              "      <td>3.27</td>\n",
              "      <td>0.19</td>\n",
              "      <td>1.92</td>\n",
              "      <td>1309.00</td>\n",
              "      <td>0.32</td>\n",
              "    </tr>\n",
              "  </tbody>\n",
              "</table>\n",
              "</div>"
            ],
            "text/plain": [
              "                     p (mbar)  T (degC)  ...  rho (g/m**3)  wv (m/s)\n",
              "Date Time                                ...                        \n",
              "01.01.2009 00:10:00    996.52     -8.02  ...       1307.75      1.03\n",
              "01.01.2009 00:20:00    996.57     -8.41  ...       1309.80      0.72\n",
              "01.01.2009 00:30:00    996.53     -8.51  ...       1310.24      0.19\n",
              "01.01.2009 00:40:00    996.51     -8.31  ...       1309.19      0.34\n",
              "01.01.2009 00:50:00    996.51     -8.27  ...       1309.00      0.32\n",
              "\n",
              "[5 rows x 7 columns]"
            ]
          },
          "metadata": {
            "tags": []
          },
          "execution_count": 5
        }
      ]
    },
    {
      "cell_type": "markdown",
      "metadata": {
        "id": "uquF-ZbmCicY"
      },
      "source": [
        "Scale data using minmaxscaler"
      ]
    },
    {
      "cell_type": "code",
      "metadata": {
        "colab": {
          "base_uri": "https://localhost:8080/"
        },
        "id": "0jLHRGjwBsbp",
        "outputId": "12bab163-a627-4f0a-c96a-27aa6d81f1f9"
      },
      "source": [
        "scaler = MinMaxScaler()\r\n",
        "features = scaler.fit_transform(features.values)\r\n",
        "features"
      ],
      "execution_count": null,
      "outputs": [
        {
          "output_type": "execute_result",
          "data": {
            "text/plain": [
              "array([[0.81493857, 0.24863161, 0.03788602, ..., 0.08167896, 0.74321291,\n",
              "        0.99726153],\n",
              "       [0.81542998, 0.24216288, 0.03629417, ..., 0.07884288, 0.74934898,\n",
              "        0.99723061],\n",
              "       [0.81503686, 0.24050423, 0.0359758 , ..., 0.07827567, 0.75066599,\n",
              "        0.99717776],\n",
              "       ...,\n",
              "       [0.84737101, 0.329242  , 0.06192295, ..., 0.08791832, 0.68526445,\n",
              "        0.99726651],\n",
              "       [0.84727273, 0.31149444, 0.05587393, ..., 0.08451503, 0.70073932,\n",
              "        0.9973074 ],\n",
              "       [0.84737101, 0.30170841, 0.05284941, ..., 0.08564946, 0.70918016,\n",
              "        0.99728147]])"
            ]
          },
          "metadata": {
            "tags": []
          },
          "execution_count": 6
        }
      ]
    },
    {
      "cell_type": "code",
      "metadata": {
        "colab": {
          "base_uri": "https://localhost:8080/"
        },
        "id": "9tHMpnfXCxMi",
        "outputId": "2c7dd9ac-f67d-4df4-a348-c0b189bd8105"
      },
      "source": [
        "split_fraction = 0.815\r\n",
        "train_split = int(split_fraction * len(features))\r\n",
        "train_split"
      ],
      "execution_count": null,
      "outputs": [
        {
          "output_type": "execute_result",
          "data": {
            "text/plain": [
              "342749"
            ]
          },
          "metadata": {
            "tags": []
          },
          "execution_count": 7
        }
      ]
    },
    {
      "cell_type": "code",
      "metadata": {
        "colab": {
          "base_uri": "https://localhost:8080/"
        },
        "id": "WGEk6BBQGlm5",
        "outputId": "f57a774e-f85d-4883-89cd-4fe681aad563"
      },
      "source": [
        "train_data = features[0 : train_split - 1]\r\n",
        "val_data = features[train_split:]\r\n",
        "print(train_data.shape)\r\n",
        "print(val_data.shape)"
      ],
      "execution_count": null,
      "outputs": [
        {
          "output_type": "stream",
          "text": [
            "(342748, 7)\n",
            "(77802, 7)\n"
          ],
          "name": "stdout"
        }
      ]
    },
    {
      "cell_type": "code",
      "metadata": {
        "colab": {
          "base_uri": "https://localhost:8080/"
        },
        "id": "aNkNzmGkHFlP",
        "outputId": "1c9a9363-d085-4137-d813-4f47545fd454"
      },
      "source": [
        "x_train = np.delete(train_data, 1, 1)\r\n",
        "y_train = train_data[:, [1]]\r\n",
        "print(train_data)\r\n",
        "print(\"%%%%%%%%%%%%%%%\")\r\n",
        "print(y_train)\r\n",
        "print(\"%%%%%%%%%%%%%%%\")\r\n",
        "print(x_train)\r\n",
        "print(\"<<<<<<<<<<<<<<<<<>>>>>>>>>>>>>>>>>>>>>>>\")\r\n",
        "x_val = np.delete(val_data, 1, 1)\r\n",
        "y_val = val_data[:, [1]]\r\n",
        "print(val_data)\r\n",
        "print(\"%%%%%%%%%%%%%%%\")\r\n",
        "print(y_val)\r\n",
        "print(\"%%%%%%%%%%%%%%%\")\r\n",
        "print(x_val)"
      ],
      "execution_count": null,
      "outputs": [
        {
          "output_type": "stream",
          "text": [
            "[[0.81493857 0.24863161 0.03788602 ... 0.08167896 0.74321291 0.99726153]\n",
            " [0.81542998 0.24216288 0.03629417 ... 0.07884288 0.74934898 0.99723061]\n",
            " [0.81503686 0.24050423 0.0359758  ... 0.07827567 0.75066599 0.99717776]\n",
            " ...\n",
            " [0.68167076 0.91524299 0.75007959 ... 0.58082813 0.16390793 0.99760857]\n",
            " [0.68068796 0.91457953 0.74832856 ... 0.5757232  0.16420725 0.99746198]\n",
            " [0.67882064 0.91640405 0.75310411 ... 0.54849688 0.16330929 0.99765644]]\n",
            "%%%%%%%%%%%%%%%\n",
            "[[0.24863161]\n",
            " [0.24216288]\n",
            " [0.24050423]\n",
            " ...\n",
            " [0.91524299]\n",
            " [0.91457953]\n",
            " [0.91640405]]\n",
            "%%%%%%%%%%%%%%%\n",
            "[[0.81493857 0.03788602 0.00478157 0.08167896 0.74321291 0.99726153]\n",
            " [0.81542998 0.03629417 0.00456423 0.07884288 0.74934898 0.99723061]\n",
            " [0.81503686 0.0359758  0.00434688 0.07827567 0.75066599 0.99717776]\n",
            " ...\n",
            " [0.68167076 0.75007959 0.67811345 0.58082813 0.16390793 0.99760857]\n",
            " [0.68068796 0.74832856 0.67898283 0.5757232  0.16420725 0.99746198]\n",
            " [0.67882064 0.75310411 0.70180396 0.54849688 0.16330929 0.99765644]]\n",
            "<<<<<<<<<<<<<<<<<>>>>>>>>>>>>>>>>>>>>>>>\n",
            "[[0.67636364 0.92768287 0.78303088 ... 0.56948383 0.15432967 0.99753976]\n",
            " [0.67479115 0.92834633 0.78478192 ... 0.58139535 0.1529528  0.99757168]\n",
            " [0.67341523 0.92436557 0.77411652 ... 0.58820193 0.15480858 0.99747793]\n",
            " ...\n",
            " [0.84737101 0.329242   0.06192295 ... 0.08791832 0.68526445 0.99726651]\n",
            " [0.84727273 0.31149444 0.05587393 ... 0.08451503 0.70073932 0.9973074 ]\n",
            " [0.84737101 0.30170841 0.05284941 ... 0.08564946 0.70918016 0.99728147]]\n",
            "%%%%%%%%%%%%%%%\n",
            "[[0.92768287]\n",
            " [0.92834633]\n",
            " [0.92436557]\n",
            " ...\n",
            " [0.329242  ]\n",
            " [0.31149444]\n",
            " [0.30170841]]\n",
            "%%%%%%%%%%%%%%%\n",
            "[[0.67636364 0.78303088 0.73005868 0.56948383 0.15432967 0.99753976]\n",
            " [0.67479115 0.78478192 0.7257118  0.58139535 0.1529528  0.99757168]\n",
            " [0.67341523 0.77411652 0.70680287 0.58820193 0.15480858 0.99747793]\n",
            " ...\n",
            " [0.84737101 0.06192295 0.03368833 0.08791832 0.68526445 0.99726651]\n",
            " [0.84727273 0.05587393 0.02738535 0.08451503 0.70073932 0.9973074 ]\n",
            " [0.84737101 0.05284941 0.02260378 0.08564946 0.70918016 0.99728147]]\n"
          ],
          "name": "stdout"
        }
      ]
    },
    {
      "cell_type": "code",
      "metadata": {
        "colab": {
          "base_uri": "https://localhost:8080/"
        },
        "id": "Z7K1LfE2leIY",
        "outputId": "5088e5f7-b149-4dc7-8a45-d87f5bb9af60"
      },
      "source": [
        "print(x_train.dtype)"
      ],
      "execution_count": null,
      "outputs": [
        {
          "output_type": "stream",
          "text": [
            "float64\n"
          ],
          "name": "stdout"
        }
      ]
    },
    {
      "cell_type": "markdown",
      "metadata": {
        "id": "05eSaQVEL5it"
      },
      "source": [
        "create data loaders\r\n",
        "\r\n",
        "we need custom dataset for LSTM which uses seq of readings too\r\n"
      ]
    },
    {
      "cell_type": "code",
      "metadata": {
        "id": "s557EnCFPSYX"
      },
      "source": [
        "class TimeseriesDataset(torch.utils.data.Dataset):   \r\n",
        "    def __init__(self, X, y, seq_len=1):\r\n",
        "        self.X = X\r\n",
        "        self.y = y\r\n",
        "        self.seq_len = seq_len\r\n",
        "\r\n",
        "    def __len__(self):\r\n",
        "        return self.X.__len__() - (self.seq_len-1)\r\n",
        "\r\n",
        "    def __getitem__(self, index):\r\n",
        "        return ((self.X[index:index+self.seq_len]), (self.y[index+self.seq_len-1]))"
      ],
      "execution_count": null,
      "outputs": []
    },
    {
      "cell_type": "code",
      "metadata": {
        "id": "6f389COOIEue"
      },
      "source": [
        "sequence_length = 120\r\n",
        "\r\n",
        "train_dataset = TimeseriesDataset(x_train, y_train, 120)\r\n",
        "val_dataset = TimeseriesDataset(x_val, y_val, 120)\r\n",
        "\r\n",
        "batch_size = 256\r\n",
        "\r\n",
        "train_loader = DataLoader(train_dataset, shuffle=False, batch_size=batch_size)\r\n",
        "val_loader = DataLoader(val_dataset, shuffle=False, batch_size=batch_size)\r\n",
        "#test_loader = DataLoader(test_data, shuffle=True, batch_size=batch_size)"
      ],
      "execution_count": null,
      "outputs": []
    },
    {
      "cell_type": "code",
      "metadata": {
        "colab": {
          "base_uri": "https://localhost:8080/"
        },
        "id": "_uRw0ZikNQAi",
        "outputId": "f05386a8-ae49-4e5d-eacc-d7e8cda6c7a1"
      },
      "source": [
        "dataiter = iter(train_loader)\r\n",
        "dataiterVal = iter(val_loader)\r\n",
        "sample_x, sample_y = dataiter.next()\r\n",
        "sample_x_val, sample_y_val = dataiter.next()\r\n",
        "print(sample_x.shape, sample_y.shape)\r\n",
        "print(sample_x_val.shape, sample_y_val.shape)"
      ],
      "execution_count": null,
      "outputs": [
        {
          "output_type": "stream",
          "text": [
            "torch.Size([256, 120, 6]) torch.Size([256, 1])\n",
            "torch.Size([256, 120, 6]) torch.Size([256, 1])\n"
          ],
          "name": "stdout"
        }
      ]
    },
    {
      "cell_type": "markdown",
      "metadata": {
        "id": "TbnUaSNbM-7F"
      },
      "source": [
        "Creating Model"
      ]
    },
    {
      "cell_type": "code",
      "metadata": {
        "id": "w9-KFmI8NAmZ"
      },
      "source": [
        "class WeatherNet(nn.Module):\r\n",
        "    def __init__(self, input_size, output_size, hidden_dim, n_layers, drop_prob=0.5):\r\n",
        "        super(WeatherNet, self).__init__()\r\n",
        "        self.output_size = output_size\r\n",
        "        self.n_layers = n_layers\r\n",
        "        self.hidden_dim = hidden_dim\r\n",
        "        self.input_size = input_size\r\n",
        "        self.lstm = nn.LSTM(input_size, hidden_dim, n_layers, dropout=drop_prob, batch_first=True)\r\n",
        "        self.dropout = nn.Dropout(0.2)\r\n",
        "        self.fc = nn.Linear(hidden_dim, output_size)\r\n",
        "        \r\n",
        "        \r\n",
        "    def forward(self, x, hidden):\r\n",
        "        x = x.float() \r\n",
        "        batch_size = x.size(0)\r\n",
        "        lstm_out, hidden = self.lstm(x, hidden)\r\n",
        "        lstm_out = (lstm_out[:, sequence_length-1, :])\r\n",
        "        out = self.dropout(lstm_out)\r\n",
        "        out = self.fc(out)\r\n",
        "        out = out.view(batch_size, -1)\r\n",
        "        out = out[:,-1]\r\n",
        "        return out, hidden\r\n",
        "    \r\n",
        "    def init_hidden(self, batch_size):\r\n",
        "        weight = next(self.parameters()).data\r\n",
        "        hidden = (weight.new(self.n_layers, batch_size, self.hidden_dim).zero_(),\r\n",
        "                      weight.new(self.n_layers, batch_size, self.hidden_dim).zero_())\r\n",
        "        return hidden\r\n"
      ],
      "execution_count": null,
      "outputs": []
    },
    {
      "cell_type": "markdown",
      "metadata": {
        "id": "z9VZIadxPMWc"
      },
      "source": [
        "initialize model"
      ]
    },
    {
      "cell_type": "code",
      "metadata": {
        "colab": {
          "base_uri": "https://localhost:8080/"
        },
        "id": "Anyfxl6bO79a",
        "outputId": "63d377d2-db78-41b8-c541-d1afb960d43c"
      },
      "source": [
        "input_size = 6\r\n",
        "output_size = 1\r\n",
        "hidden_dim = 64\r\n",
        "n_layers = 1\r\n",
        "model = WeatherNet(input_size, output_size, hidden_dim, n_layers)\r\n",
        "print(model)"
      ],
      "execution_count": null,
      "outputs": [
        {
          "output_type": "stream",
          "text": [
            "WeatherNet(\n",
            "  (lstm): LSTM(6, 64, batch_first=True, dropout=0.5)\n",
            "  (dropout): Dropout(p=0.2, inplace=False)\n",
            "  (fc): Linear(in_features=64, out_features=1, bias=True)\n",
            ")\n"
          ],
          "name": "stdout"
        },
        {
          "output_type": "stream",
          "text": [
            "/usr/local/lib/python3.6/dist-packages/torch/nn/modules/rnn.py:61: UserWarning: dropout option adds dropout after all but last recurrent layer, so non-zero dropout expects num_layers greater than 1, but got dropout=0.5 and num_layers=1\n",
            "  \"num_layers={}\".format(dropout, num_layers))\n"
          ],
          "name": "stderr"
        }
      ]
    },
    {
      "cell_type": "code",
      "metadata": {
        "colab": {
          "base_uri": "https://localhost:8080/"
        },
        "id": "muZ4uN-qQXBg",
        "outputId": "86ede5e9-50fc-4e0b-895f-b70322b5d4f0"
      },
      "source": [
        "lr=0.005\r\n",
        "criterion = nn.MSELoss()\r\n",
        "optimizer = torch.optim.Adam(model.parameters(), lr=lr)\r\n",
        "print(model.parameters())\r\n"
      ],
      "execution_count": null,
      "outputs": [
        {
          "output_type": "stream",
          "text": [
            "<generator object Module.parameters at 0x7f32638f6fc0>\n"
          ],
          "name": "stdout"
        }
      ]
    },
    {
      "cell_type": "markdown",
      "metadata": {
        "id": "xbN9FmzSQvZx"
      },
      "source": [
        "Start training"
      ]
    },
    {
      "cell_type": "code",
      "metadata": {
        "colab": {
          "base_uri": "https://localhost:8080/"
        },
        "id": "groxxjTXQnbY",
        "outputId": "a278f1da-ec56-42ad-8e2c-de955f3da511"
      },
      "source": [
        "epochs = 5\r\n",
        "counter = 0\r\n",
        "print_every = 1000\r\n",
        "clip = 5\r\n",
        "valid_loss_min = np.Inf\r\n",
        "\r\n",
        "model.train()\r\n",
        "history = []\r\n",
        "for i in range(epochs):\r\n",
        "    h = model.init_hidden(batch_size)\r\n",
        "    for inputs, labels in train_loader:\r\n",
        "        counter += 1\r\n",
        "        h = tuple([e.data for e in h])\r\n",
        "        optimizer.zero_grad()\r\n",
        "        output, h = model(sample_x, h)\r\n",
        "        loss = criterion(output.squeeze(), sample_y.float().squeeze())\r\n",
        "        loss.backward()\r\n",
        "        nn.utils.clip_grad_norm_(model.parameters(), clip)\r\n",
        "        optimizer.step()\r\n",
        "        \r\n",
        "\r\n",
        "        if counter%print_every == 0:\r\n",
        "            val_h = model.init_hidden(batch_size)\r\n",
        "            val_losses = []\r\n",
        "            model.eval()\r\n",
        "            for inp, lab in val_loader:\r\n",
        "                val_h = tuple([each.data for each in val_h])\r\n",
        "                if inp.shape[0] == 256:\r\n",
        "                    out, val_h = model(inp, val_h)\r\n",
        "                    val_loss = criterion(out.squeeze(), lab.float().squeeze())\r\n",
        "                    val_losses.append(val_loss.item())\r\n",
        "            model.train()\r\n",
        "            print(\"Epoch: {}/{}...\".format(i+1, epochs),\r\n",
        "                  \"Step: {}...\".format(counter),\r\n",
        "                  \"Loss: {:.6f}...\".format(loss.item()),\r\n",
        "                  \"Val Loss: {:.6f}\".format(np.mean(val_losses)))\r\n",
        "            if np.mean(val_losses) <= valid_loss_min:\r\n",
        "                torch.save(model.state_dict(), './state_dict.pt')\r\n",
        "                print('Validation loss decreased ({:.6f} --> {:.6f}).  Saving model ...'.format(valid_loss_min,np.mean(val_losses)))\r\n",
        "                valid_loss_min = np.mean(val_losses)\r\n",
        "\r\n",
        "        "
      ],
      "execution_count": null,
      "outputs": [
        {
          "output_type": "stream",
          "text": [
            "Epoch: 1/5... Step: 1000... Loss: 0.000084... Val Loss: 0.020911\n",
            "Validation loss decreased (inf --> 0.020911).  Saving model ...\n",
            "Epoch: 2/5... Step: 2000... Loss: 0.000014... Val Loss: 0.014789\n",
            "Validation loss decreased (0.020911 --> 0.014789).  Saving model ...\n",
            "Epoch: 3/5... Step: 3000... Loss: 0.000011... Val Loss: 0.013289\n",
            "Validation loss decreased (0.014789 --> 0.013289).  Saving model ...\n",
            "Epoch: 3/5... Step: 4000... Loss: 0.000010... Val Loss: 0.010764\n",
            "Validation loss decreased (0.013289 --> 0.010764).  Saving model ...\n",
            "Epoch: 4/5... Step: 5000... Loss: 0.000011... Val Loss: 0.008502\n",
            "Validation loss decreased (0.010764 --> 0.008502).  Saving model ...\n",
            "Epoch: 5/5... Step: 6000... Loss: 0.000006... Val Loss: 0.007319\n",
            "Validation loss decreased (0.008502 --> 0.007319).  Saving model ...\n"
          ],
          "name": "stdout"
        }
      ]
    },
    {
      "cell_type": "code",
      "metadata": {
        "id": "aP_OWc38mw8O"
      },
      "source": [
        "8l"
      ],
      "execution_count": null,
      "outputs": []
    }
  ]
}